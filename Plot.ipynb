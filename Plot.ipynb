{
 "cells": [
  {
   "cell_type": "code",
   "execution_count": 69,
   "metadata": {},
   "outputs": [],
   "source": [
    "import matplotlib.pyplot as plt\n",
    "import numpy as np"
   ]
  },
  {
   "cell_type": "code",
   "execution_count": 70,
   "metadata": {},
   "outputs": [],
   "source": [
    "# Get Data\n",
    "with open('info.txt', 'r') as file:\n",
    "    lines = file.readlines()"
   ]
  },
  {
   "cell_type": "code",
   "execution_count": 71,
   "metadata": {},
   "outputs": [],
   "source": [
    "def get_agents():\n",
    "    agent_set = set([])\n",
    "    # Parse Data\n",
    "    for line in lines:\n",
    "        words = line.split('|')\n",
    "        words = [word.strip() for word in words]\n",
    "\n",
    "        docker_name = words[1]\n",
    "        if docker_name not in agent_set:\n",
    "            agent_set.add(docker_name)\n",
    "\n",
    "    return agent_set"
   ]
  },
  {
   "cell_type": "code",
   "execution_count": 96,
   "metadata": {},
   "outputs": [],
   "source": [
    "def get_data(agent, task=None):\n",
    "    x = []\n",
    "    y = []\n",
    "    # Parse Data\n",
    "    for line in lines:\n",
    "        indiv_status = [''] * 5\n",
    "        indiv_progress = [''] * 5\n",
    "        indiv_score = [''] * 5\n",
    "\n",
    "        words = line.split('|')\n",
    "        words = [word.strip() for word in words]\n",
    "\n",
    "        date, docker_name, status, score = words[0:4]\n",
    "\n",
    "        for i in range(5):\n",
    "            _, indiv_status[i], indiv_progress[i], indiv_score[i] = words[4*i+4:4*i+8]\n",
    "\n",
    "        if agent == docker_name:\n",
    "            if not task:\n",
    "                sum_progress = 0\n",
    "                sum_count = 0\n",
    "                for progress in indiv_progress:\n",
    "                    if progress not in ['N/A', '']:\n",
    "                        sum_progress += float(progress[:-1])\n",
    "                        sum_count += 1\n",
    "                x.append(sum_progress / sum_count if sum_count > 0 else 0)\n",
    "                y.append(float(score))\n",
    "            else:\n",
    "                x.append(indiv_progress[task])\n",
    "                y.append(float(indiv_score[task]))\n",
    "\n",
    "    return x, y"
   ]
  },
  {
   "cell_type": "code",
   "execution_count": 97,
   "metadata": {},
   "outputs": [
    {
     "data": {
      "text/plain": [
       "{'rainbow-agent:v10',\n",
       " 'rainbow-agent:v7',\n",
       " 'rainbow-agent:v8',\n",
       " 'rainbow-agent:v9'}"
      ]
     },
     "execution_count": 97,
     "metadata": {},
     "output_type": "execute_result"
    }
   ],
   "source": [
    "get_agents()"
   ]
  },
  {
   "cell_type": "code",
   "execution_count": 98,
   "metadata": {},
   "outputs": [],
   "source": [
    "xs, ys = get_data('rainbow-agent:v9')"
   ]
  },
  {
   "cell_type": "code",
   "execution_count": 100,
   "metadata": {},
   "outputs": [
    {
     "data": {
      "text/plain": [
       "[<matplotlib.lines.Line2D at 0x7f748b530668>]"
      ]
     },
     "execution_count": 100,
     "metadata": {},
     "output_type": "execute_result"
    },
    {
     "data": {
      "image/png": "[encoded data removed]",
      "text/plain": [
       "<Figure size 432x288 with 1 Axes>"
      ]
     },
     "metadata": {},
     "output_type": "display_data"
    }
   ],
   "source": [
    "plt.ylim([0, 10000])\n",
    "plt.xlim([0, 100])\n",
    "plt.plot(xs, ys)"
   ]
  },
  {
   "cell_type": "code",
   "execution_count": null,
   "metadata": {},
   "outputs": [],
   "source": []
  },
  {
   "cell_type": "code",
   "execution_count": null,
   "metadata": {},
   "outputs": [],
   "source": []
  }
 ],
 "metadata": {
  "kernelspec": {
   "display_name": "Python [conda env:retro]",
   "language": "python",
   "name": "conda-env-retro-py"
  },
  "language_info": {
   "codemirror_mode": {
    "name": "ipython",
    "version": 3
   },
   "file_extension": ".py",
   "mimetype": "text/x-python",
   "name": "python",
   "nbconvert_exporter": "python",
   "pygments_lexer": "ipython3",
   "version": "3.6.5"
  }
 },
 "nbformat": 4,
 "nbformat_minor": 2
}
