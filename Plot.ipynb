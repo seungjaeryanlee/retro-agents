{
 "cells": [
  {
   "cell_type": "code",
   "execution_count": 1,
   "metadata": {},
   "outputs": [],
   "source": [
    "import matplotlib.pyplot as plt\n",
    "import numpy as np"
   ]
  },
  {
   "cell_type": "code",
   "execution_count": 2,
   "metadata": {},
   "outputs": [],
   "source": [
    "def get_agents():\n",
    "    \"\"\"\n",
    "    Get set of agents contained in info.txt.\n",
    "    \"\"\"\n",
    "    agent_set = set([])\n",
    "\n",
    "    with open('info.txt', 'r') as file:\n",
    "        lines = file.readlines()\n",
    "\n",
    "    for line in lines:\n",
    "        words = line.split('|')\n",
    "        words = [word.strip() for word in words]\n",
    "\n",
    "        agent_name = words[1]\n",
    "        if agent_name not in agent_set:\n",
    "            agent_set.add(agent_name)\n",
    "\n",
    "    return agent_set"
   ]
  },
  {
   "cell_type": "code",
   "execution_count": 3,
   "metadata": {},
   "outputs": [],
   "source": [
    "def get_data(agent_name, task=None):\n",
    "    \"\"\"\n",
    "    Return tuple (xs, ys) where xs is the progress and ys is the score given agent and task.\n",
    "    If task is not specified, return average score.\n",
    "    \"\"\"\n",
    "    x = []\n",
    "    y = []\n",
    "\n",
    "    with open('info.txt', 'r') as file:\n",
    "        lines = file.readlines()\n",
    "\n",
    "    for line in lines:\n",
    "        indiv_status = [''] * 5\n",
    "        indiv_progress = [''] * 5\n",
    "        indiv_score = [''] * 5\n",
    "\n",
    "        words = line.split('|')\n",
    "        words = [word.strip() for word in words]\n",
    "\n",
    "        date, agent, status, score = words[0:4]\n",
    "\n",
    "        for i in range(5):\n",
    "            _, indiv_status[i], indiv_progress[i], indiv_score[i] = words[4*i+4:4*i+8]\n",
    "\n",
    "        if agent == agent_name:\n",
    "            if not task:\n",
    "                sum_progress = 0\n",
    "                sum_count = 0\n",
    "                for progress in indiv_progress:\n",
    "                    if progress not in ['N/A', '']:\n",
    "                        sum_progress += float(progress[:-1])\n",
    "                        sum_count += 1\n",
    "                if sum_count > 0:\n",
    "                    x.append(sum_progress / sum_count if sum_count > 0 else 0)\n",
    "                    y.append(float(score))\n",
    "            else:\n",
    "                if indiv_progress[task - 1] not in ['N/A', ''] and indiv_score[task - 1] != 'pending':\n",
    "                    x.append(float(indiv_progress[task - 1][:-1]))\n",
    "                    y.append(float(indiv_score[task - 1]))\n",
    "\n",
    "    return x, y"
   ]
  },
  {
   "cell_type": "code",
   "execution_count": 4,
   "metadata": {},
   "outputs": [],
   "source": [
    "def plot_scores(agent_name, show=True, filename=None):\n",
    "    xs, ys = get_data(agent_name)\n",
    "    xs1, ys1 = get_data(agent_name, 1)\n",
    "    xs2, ys2 = get_data(agent_name, 2)\n",
    "    xs3, ys3 = get_data(agent_name, 3)\n",
    "    xs4, ys4 = get_data(agent_name, 4)\n",
    "    xs5, ys5 = get_data(agent_name, 5)\n",
    "    plt.plot(xs, ys, 'k', linewidth=4)\n",
    "    plt.plot(xs1, ys1)\n",
    "    plt.plot(xs2, ys2)\n",
    "    plt.plot(xs3, ys3)\n",
    "    plt.plot(xs4, ys4)\n",
    "    plt.plot(xs5, ys5)\n",
    "    plt.legend(['Average', 'Task #1', 'Task #2', 'Task #3', 'Task #4', 'Task #5'])\n",
    "    plt.xlabel('Progress (%)')\n",
    "    plt.xlim([0, 100])\n",
    "    plt.ylabel('Score')\n",
    "    plt.ylim([0, 10000])\n",
    "    \n",
    "    if filename:\n",
    "        plt.savefig(filename)\n",
    "    if show:\n",
    "        plt.show()\n",
    "    else:\n",
    "        plt.close()"
   ]
  },
  {
   "cell_type": "code",
   "execution_count": 5,
   "metadata": {},
   "outputs": [],
   "source": [
    "def compare_agents(agents, task=None):\n",
    "    for agent in agents:\n",
    "        xs, ys = get_data(agent, task)\n",
    "        plt.plot(xs, ys)\n",
    "\n",
    "    plt.legend(agents)\n",
    "    plt.xlabel('Progress (%)')\n",
    "    plt.xlim([0, 100])\n",
    "    plt.ylabel('Score')\n",
    "    plt.ylim([0, 10000])\n",
    "    plt.show()"
   ]
  },
  {
   "cell_type": "markdown",
   "metadata": {},
   "source": [
    "# Plots"
   ]
  },
  {
   "cell_type": "code",
   "execution_count": 6,
   "metadata": {},
   "outputs": [],
   "source": [
    "plot_scores('rainbow:v1', show=False, filename='writeup/Baseline.png')\n",
    "plot_scores('custom:v12', show=False, filename='writeup/AllAveragePRB.png')\n",
    "plot_scores('custom:v13', show=False, filename='writeup/BufferAveragePRB.png')\n",
    "plot_scores('custom:v14', show=False, filename='writeup/MinimumPRB.png')\n",
    "plot_scores('custom:v15', show=False, filename='writeup/StochasticMaxPRB.png')\n",
    "plot_scores('custom:v16', show=False, filename='writeup/CombinedAveragePRB.png')\n",
    "plot_scores('custom:v17', show=False, filename='writeup/DoubleSampling.png')\n",
    "# plot_scores('custom:v18', show=False, filename='writeup/BufferExponentialAveragePRB.png')\n",
    "# plot_scores('custom:v19', show=False, filename='writeup/StochasticMaxDeltaPRB.png')\n",
    "# plot_scores('custom:v20', show=False, filename='writeup/MinimumDeletionPRB.png')\n",
    "# plot_scores('custom:v21', show=False, filename='writeup/NoDueling.png')"
   ]
  },
  {
   "cell_type": "code",
   "execution_count": 7,
   "metadata": {},
   "outputs": [
    {
     "data": {
      "image/png": "[encoded data removed]",
      "text/plain": [
       "<Figure size 432x288 with 1 Axes>"
      ]
     },
     "metadata": {},
     "output_type": "display_data"
    }
   ],
   "source": [
    "compare_agents(['rainbow:v1', 'custom:v15', 'custom:v18'])"
   ]
  }
 ],
 "metadata": {
  "kernelspec": {
   "display_name": "Python [conda env:paper]",
   "language": "python",
   "name": "conda-env-paper-py"
  },
  "language_info": {
   "codemirror_mode": {
    "name": "ipython",
    "version": 3
   },
   "file_extension": ".py",
   "mimetype": "text/x-python",
   "name": "python",
   "nbconvert_exporter": "python",
   "pygments_lexer": "ipython3",
   "version": "3.6.5"
  }
 },
 "nbformat": 4,
 "nbformat_minor": 2
}
